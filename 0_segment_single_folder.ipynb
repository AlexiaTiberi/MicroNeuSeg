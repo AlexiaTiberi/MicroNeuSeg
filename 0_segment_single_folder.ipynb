{
 "cells": [
  {
   "cell_type": "code",
   "execution_count": null,
   "metadata": {},
   "outputs": [],
   "source": [
    "'''\n",
    "THIS IS THE SEGMENTATION SCRIPT TO PROCESS A SINGLE FOLDER BEST USED WHEN TWEAKING WITH CONFIG.PY\n",
    "\n",
    "HOW TO USE:\n",
    "!!!!!!\n",
    "folder_path: the path to the folder containing the images you want to segment\n",
    "!!!!!!\n",
    "\n",
    "The names of the images SHOULD BE IMAGE1_IBA1.TIF, IMAGE1_NEUN.TIF, IMAGE1_PV.TIF; IMAGE2_IBA1.TIF ETC...  \n",
    "\n",
    "the code WILL USE THE CHANNEL NAME to decide which pipeline to use (DoG filtering (IBA AND PV) vs Stardist (NEUN))\n",
    "\n",
    "The pipeline can be optimized for any use using the config.py which contains parameters to be tweaked with to improve cell segmentation\n",
    "\n",
    "visualize=True let's you see all the segmented cells, I suggest to use this especially when setting up the parameters in config.py \n",
    "\n",
    "'''\n",
    "\n",
    "from src.segment_single_folder import process_single_folder\n",
    "folder_path=r\"E:\\VSC_SSD\\MicroNeuSeg\\data\\animal1\"# path to a folder containing images to segment\n",
    "if __name__ == \"__main__\":\n",
    "    process_single_folder(folder_path, visualize=True) # putting True let's you visualize detected cells, good for \n"
   ]
  }
 ],
 "metadata": {
  "kernelspec": {
   "display_name": "madonna",
   "language": "python",
   "name": "python3"
  },
  "language_info": {
   "codemirror_mode": {
    "name": "ipython",
    "version": 3
   },
   "file_extension": ".py",
   "mimetype": "text/x-python",
   "name": "python",
   "nbconvert_exporter": "python",
   "pygments_lexer": "ipython3",
   "version": "3.8.20"
  }
 },
 "nbformat": 4,
 "nbformat_minor": 2
}
