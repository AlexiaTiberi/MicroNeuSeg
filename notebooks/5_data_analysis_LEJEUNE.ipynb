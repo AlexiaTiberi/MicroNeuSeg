{
 "cells": [
  {
   "cell_type": "code",
   "execution_count": null,
   "metadata": {},
   "outputs": [],
   "source": [
    "import os\n",
    "import pandas as pd\n",
    "import matplotlib.pyplot as plt\n",
    "import seaborn as sns\n",
    "from scipy.stats import ttest_ind\n",
    "import statsmodels.formula.api as smf\n",
    "import statsmodels.api as sm\n",
    "import numpy as np\n"
   ]
  },
  {
   "cell_type": "code",
   "execution_count": null,
   "metadata": {},
   "outputs": [],
   "source": [
    "output_folder_path=r\"E:\\VSC_SSD\\prova_out\" # path to save images and final results\n",
    "\n",
    "\n",
    "root_folder = r\"E:\\VSC_SSD\\MicroNeuSeg\\results\" # Define the folder containing all data files (savepath in the 4_extract_data.py)\n",
    "\n",
    "# Create an empty list to store DataFrames\n",
    "data_frames = []\n",
    "\n",
    "# Walk through all subdirectories and files\n",
    "for dirpath, dirnames, filenames in os.walk(root_folder):\n",
    "    for file in filenames:\n",
    "        if file.endswith(\".xlsx\"):  # Check if the file is an Excel file\n",
    "            # Extract the part of the filename before \"_PARVA\"\n",
    "            identifier = file.split(\".\")[0]\n",
    "            \n",
    "            # Read the Excel file\n",
    "            file_path = os.path.join(dirpath, file)\n",
    "            df = pd.read_excel(file_path)\n",
    "            \n",
    "            # Add the identifier as a new column\n",
    "            df[\"Identifier\"] = identifier\n",
    "            df[\"Sex\"] = df[\"Identifier\"].str.extract(r\"_(FEM|M)_\")\n",
    "            df[\"Genotype\"] = df[\"Identifier\"].str.extract(r\"_(WT|TS)_\")\n",
    "            df[\"Animal\"] = df[\"Identifier\"].str.replace(r\"_[0-9]+$\", \"\", regex=True)\n",
    "            \n",
    "            # Append the DataFrame to the list\n",
    "            data_frames.append(df)\n",
    "\n",
    "# Concatenate all DataFrames into a single DataFrame\n",
    "combined_df = pd.concat(data_frames, ignore_index=True)\n",
    "combined_df[\"Genotype\"] = combined_df['Genotype'].replace({'WT': 'Eu', 'TS': 'Ts'})\n",
    "combined_df[\"Batch\"] = combined_df[\"Animal\"].apply(lambda x: 1 if \"PG\" in x else 2)\n",
    "combined_df[\"E_I_Ratio\"]=(combined_df[\"Percent_Microglia_Associated_with_NeuN\"]-combined_df[\"Percent_Microglia_Associated_with_PV\"])/(combined_df[\"Percent_Microglia_Associated_with_NeuN\"]+combined_df[\"Percent_Microglia_Associated_with_PV\"])\n",
    "combined_df.drop(columns=[\"Area\", \"NeuN+PV-_Density\"], axis=1,inplace=True)\n",
    "combined_df[\"E_I_Ratio\"].replace([np.inf, -np.inf], np.nan, inplace=True)\n",
    "combined_df.dropna(subset=[\"E_I_Ratio\"], inplace=True)\n",
    "# Save the combined DataFrame to a new file (optional)\n",
    "\n",
    "\n",
    "combined_df.head()\n"
   ]
  },
  {
   "cell_type": "code",
   "execution_count": null,
   "metadata": {},
   "outputs": [],
   "source": [
    "combined_df.columns"
   ]
  },
  {
   "cell_type": "code",
   "execution_count": null,
   "metadata": {},
   "outputs": [],
   "source": [
    "#combined_df.sort_values(by=[\"Genotype\", \"Sex\"]).to_excel(os.path.join(output_folder_path, \"Figure3_all_data_proximity_1.xlsx\"), index=False)"
   ]
  },
  {
   "cell_type": "markdown",
   "metadata": {},
   "source": [
    "# excluding outliers - optional"
   ]
  },
  {
   "cell_type": "code",
   "execution_count": null,
   "metadata": {},
   "outputs": [],
   "source": [
    "combined_df['Animal'].unique()"
   ]
  },
  {
   "cell_type": "markdown",
   "metadata": {},
   "source": [
    "# EXPLORATORY DATA ANALYSIS USING LLM AND ANCOVA on SINGLE SLICES"
   ]
  },
  {
   "cell_type": "code",
   "execution_count": null,
   "metadata": {},
   "outputs": [],
   "source": [
    "# categorical_cols = ['Identifier', 'Sex', 'Genotype', 'Animal']\n",
    "# combined_df.loc[:, categorical_cols] = combined_df.loc[:, categorical_cols].astype('category')\n",
    "# combined_df['Genotype'].cat.categories # the first cat will be used as reference in the LMM\n",
    "# combined_df['Sex'].cat.categories # the first cat will be used as reference in the LMM\n",
    "\n",
    "\n",
    "# ts = combined_df[combined_df[\"Genotype\"]==\"Ts\"]\n",
    "# wt = combined_df[combined_df[\"Genotype\"]==\"Eu\"]\n",
    "# print(wt[\"Percent_Associated_PV\"].mean() - ts[\"Percent_Associated_PV\"].mean())\n",
    "# print(wt[\"Percent_Associated_NeuN\"].mean() - ts[\"Percent_Associated_NeuN\"].mean())"
   ]
  },
  {
   "cell_type": "markdown",
   "metadata": {},
   "source": [
    "# let's make a linear mixed model effect that truly rules out effect of slice"
   ]
  },
  {
   "cell_type": "code",
   "execution_count": null,
   "metadata": {},
   "outputs": [],
   "source": [
    "# Placeholder for results\n",
    "results = []\n",
    "\n",
    "\n",
    "metrics = ['Microglia_Density', 'PV_Density', 'NeuN_Density',\n",
    "       'Percent_Associated_PV', 'Proximity_MEAN_PV_BOOTSTRAP',\n",
    "       'Average_Nearest_Distance_PV', 'Average_Nearest_Distance_PV_BOOT',\n",
    "       'Percent_Associated_NeuN', 'Proximity_MEAN_NEUN_BOOTSTRAP',\n",
    "       'Average_Nearest_Distance_NeuN', 'Average_Nearest_Distance_NeuN_BOOT',\n",
    "       'Percent_Microglia_Associated_with_PV',\n",
    "       'Proximity_MEAN_PVMICRO_BOOTSTRAP',\n",
    "       'Average_Nearest_Distance_PV-ass MICRO',\n",
    "       'Average_Nearest_Distance_PVMICRO_BOOT',\n",
    "       'Percent_Microglia_Associated_with_NeuN',\n",
    "       'Proximity_MEAN_NEUNMICRO_BOOTSTRAP',\n",
    "       'Average_Nearest_Distance_NeuN-ass MICRO',\n",
    "       'Average_Nearest_Distance_NeuNMICRO_BOOT', \"E_I_Ratio\"]\n",
    "\n",
    "\n",
    "\n",
    "# Perform LMM for each metric\n",
    "for metric in metrics:\n",
    "    # Define the fixed effects formula (random effects are defined separately)\n",
    "    formula = f\"{metric} ~ C(Genotype) * C(Sex)\"\n",
    "    \n",
    "    try:\n",
    "        # Drop missing values for the current metric\n",
    "        df_filtered = combined_df.dropna(subset=[metric, \"Genotype\", \"Sex\", \"Animal\"])\n",
    "\n",
    "        # Fit the linear mixed model with a random intercept for \"Animal\" and use an alternative optimizer\n",
    "        model = smf.mixedlm(formula, data=df_filtered, groups=df_filtered[\"Animal\"]).fit(method=\"powell\")\n",
    "\n",
    "        # Extract fixed effect p-values\n",
    "        p_values = model.pvalues\n",
    "        available_terms = list(p_values.index)  # Log available terms\n",
    "        # print(f\"Available terms for {metric}: {available_terms}\") # optional: printing available terms\n",
    "\n",
    "        # Extract p-values for fixed effects dynamically\n",
    "        p_value_genotype = p_values.get(\"C(Genotype)[T.Ts]\", \"N/A\")\n",
    "        p_value_sex = p_values.get(\"C(Sex)[T.M]\", \"N/A\")\n",
    "        p_value_interaction = p_values.get(\"C(Genotype)[T.Ts]:C(Sex)[T.M]\", \"N/A\")\n",
    "\n",
    "        # Check if the model converged\n",
    "        converged = model.converged\n",
    "\n",
    "        # Append results\n",
    "        results.append({\n",
    "            \"Metric\": metric,\n",
    "            \"P-Value (Genotype)\": p_value_genotype,\n",
    "            \"P-Value (Sex)\": p_value_sex,\n",
    "            \"P-Value (Interaction)\": p_value_interaction,\n",
    "            \"Significance (Genotype)\": p_value_genotype < 0.05 if isinstance(p_value_genotype, (float, int)) else \"N/A\",\n",
    "            \"Significance (Sex)\": p_value_sex < 0.05 if isinstance(p_value_sex, (float, int)) else \"N/A\",\n",
    "            \"Significance (Interaction)\": p_value_interaction < 0.05 if isinstance(p_value_interaction, (float, int)) else \"N/A\",\n",
    "            #\"AIC\": model.aic,\n",
    "            \"Converged\": converged\n",
    "        })\n",
    "\n",
    "    except Exception as e:\n",
    "        print(f\"Error fitting LMM for {metric}: {e.__class__.__name__} - {e}\")\n",
    "\n",
    "# Convert results to a DataFrame\n",
    "results_df = pd.DataFrame(results)\n",
    "\n",
    "# Save results to Excel\n",
    "output_file = \"Table S3.xlsx\"\n",
    "#results_df.to_excel(os.path.join(output_folder_path, output_file), index=False)\n",
    "\n",
    "results_df"
   ]
  },
  {
   "cell_type": "code",
   "execution_count": null,
   "metadata": {},
   "outputs": [],
   "source": [
    "palette_true= [\"darkcyan\", \"lightpink\"]\n",
    "condition_order = [\"Eu\", \"Ts\"]\n",
    "\n",
    "# Assuming df is your DataFrame\n",
    "plt.figure(figsize=(2, 3))\n",
    "sns.boxplot(x='Genotype', y='Percent_Associated_PV', data=combined_df, palette=palette_true)\n",
    "sns.stripplot(x='Genotype', y='Percent_Associated_PV', data=combined_df, color='black', alpha=0.5)\n",
    "#plt.title('Average Nearest Distance PV(um) per Genotype')\n",
    "plt.ylabel('Microglia Percent_Associated_PV (n/mm2)')\n",
    "plt.xlabel('')\n",
    "sns.despine()\n",
    "\n",
    "#plt.savefig(os.path.join(output_folder_path, \"Microglia_Density.svg\"), bbox_inches=\"tight\")"
   ]
  },
  {
   "cell_type": "code",
   "execution_count": null,
   "metadata": {},
   "outputs": [],
   "source": [
    "# Assuming df is your DataFrame\n",
    "plt.figure(figsize=(2, 3))\n",
    "sns.boxplot(x='Genotype', y='PV_Density', data=combined_df, palette=palette_true)\n",
    "sns.stripplot(x='Genotype', y='PV_Density', data=combined_df, color='black', alpha=0.5)\n",
    "#plt.title('Average Nearest Distance PV(um) per Genotype')\n",
    "plt.ylabel('PV Density (n/mm2)')\n",
    "plt.xlabel('')\n",
    "sns.despine()\n",
    "#plt.savefig(os.path.join(output_folder_path, \"PV_Density.svg\"), bbox_inches=\"tight\")"
   ]
  },
  {
   "cell_type": "code",
   "execution_count": null,
   "metadata": {},
   "outputs": [],
   "source": [
    "# Assuming df is your DataFrame\n",
    "plt.figure(figsize=(2, 3))\n",
    "sns.boxplot(x='Genotype', y='Percent_Microglia_Associated_with_PV', data=combined_df, palette=palette_true)\n",
    "sns.stripplot(x='Genotype', y='Percent_Microglia_Associated_with_PV', data=combined_df, color='black', alpha=0.5)\n",
    "#plt.title('Average Nearest Distance PV(um) per Genotype')\n",
    "plt.ylabel('Percent_Microglia_Associated_with_PV')\n",
    "plt.xlabel('')\n",
    "sns.despine()\n",
    "#plt.savefig(os.path.join(output_folder_path, \"Percent_Microglia_Associated_with_PV.svg\"), bbox_inches=\"tight\")"
   ]
  },
  {
   "cell_type": "code",
   "execution_count": null,
   "metadata": {},
   "outputs": [],
   "source": [
    "# Assuming df is your DataFrame\n",
    "plt.figure(figsize=(2, 3))\n",
    "sns.boxplot(x='Genotype', y='Average_Nearest_Distance_PV', data=combined_df, palette=palette_true)\n",
    "sns.stripplot(x='Genotype', y='Average_Nearest_Distance_PV', data=combined_df, color='black', alpha=0.5)\n",
    "#plt.title('Average Nearest Distance PV(um) per Genotype')\n",
    "plt.ylabel('Average Nearest Distance PV (um)')\n",
    "plt.xlabel('')\n",
    "sns.despine()\n",
    "#plt.savefig(os.path.join(output_folder_path, \"Average_Nearest_Distance_PV.svg\"), bbox_inches=\"tight\")"
   ]
  },
  {
   "cell_type": "code",
   "execution_count": null,
   "metadata": {},
   "outputs": [],
   "source": [
    "# Assuming df is your DataFrame\n",
    "plt.figure(figsize=(2, 3))\n",
    "sns.boxplot(x='Genotype', y='Average_Nearest_Distance_NeuN', data=combined_df, palette=palette_true)\n",
    "sns.stripplot(x='Genotype', y='Average_Nearest_Distance_NeuN', data=combined_df, color='black', alpha=0.5)\n",
    "#plt.title('Average Nearest Distance PV(um) per Genotype')\n",
    "plt.ylabel('Average Nearest Distance NeuN (um)')\n",
    "plt.xlabel('')\n",
    "sns.despine()\n",
    "#plt.savefig(os.path.join(output_folder_path, \"Average_Nearest_Distance_NeuN.svg\"), bbox_inches=\"tight\")"
   ]
  },
  {
   "cell_type": "code",
   "execution_count": null,
   "metadata": {},
   "outputs": [],
   "source": [
    "# Assuming df is your DataFrame\n",
    "plt.figure(figsize=(2, 3))\n",
    "sns.boxplot(x='Genotype', y='Average_Nearest_Distance_PV_BOOT', data=combined_df, palette=palette_true)\n",
    "sns.stripplot(x='Genotype', y='Average_Nearest_Distance_PV_BOOT', data=combined_df, color='black', alpha=0.5)\n",
    "#plt.title('Average Nearest Distance PV(um) per Genotype')\n",
    "plt.ylabel('Average Nearest Distance PV (bootstrap)')\n",
    "plt.xlabel('')\n",
    "sns.despine()\n",
    "#plt.savefig(os.path.join(output_folder_path, \"Average_Nearest_Distance_PV_BOOT.svg\"), bbox_inches=\"tight\")"
   ]
  },
  {
   "cell_type": "code",
   "execution_count": null,
   "metadata": {},
   "outputs": [],
   "source": [
    "# Assuming df is your DataFrame\n",
    "plt.figure(figsize=(2, 3))\n",
    "sns.boxplot(x='Genotype', y='Average_Nearest_Distance_NeuN_BOOT', data=combined_df, palette=palette_true)\n",
    "sns.stripplot(x='Genotype', y='Average_Nearest_Distance_NeuN_BOOT', data=combined_df, color='black', alpha=0.5)\n",
    "#plt.title('Average Nearest Distance PV(um) per Genotype')\n",
    "plt.ylabel('Average Nearest Distance NeuN (bootstrap)')\n",
    "plt.xlabel('')\n",
    "sns.despine()\n",
    "plt.savefig(os.path.join(output_folder_path, \"Average_Nearest_Distance_NeuN_BOOT.svg\"), bbox_inches=\"tight\")"
   ]
  },
  {
   "cell_type": "code",
   "execution_count": null,
   "metadata": {},
   "outputs": [],
   "source": []
  },
  {
   "cell_type": "code",
   "execution_count": null,
   "metadata": {},
   "outputs": [],
   "source": [
    "palette_true= [\"darkcyan\", \"lightpink\"]\n",
    "condition_order = [\"WT\", \"TS\"]\n",
    "\n",
    "# Assuming df is your DataFrame\n",
    "plt.figure(figsize=(4, 4))\n",
    "sns.boxplot(x='Genotype', y='Average_Nearest_Distance_PV', data=combined_df, palette=palette_true)\n",
    "sns.stripplot(x='Genotype', y='Average_Nearest_Distance_PV', data=combined_df, color='black', alpha=0.5)\n",
    "\n",
    "#plt.title('Average Nearest Distance PV(um) per Genotype')\n",
    "plt.ylabel('Average Nearest Distance PV (μm)')\n",
    "\n",
    "sns.despine()"
   ]
  },
  {
   "cell_type": "code",
   "execution_count": null,
   "metadata": {},
   "outputs": [],
   "source": []
  },
  {
   "cell_type": "code",
   "execution_count": null,
   "metadata": {},
   "outputs": [],
   "source": [
    "# Select numeric columns, include 'Animal', and compute grouped means\n",
    "grouped_means = (\n",
    "    combined_df.select_dtypes(include=['number'])\n",
    "    .assign(Animal=combined_df['Animal'])\n",
    "    .groupby('Animal')\n",
    "    .mean()\n",
    ")\n",
    "grouped_means = grouped_means.reset_index()\n",
    "\n",
    "# Step 1: Extract genotype from the 'Animal' column (last part of the name)\n",
    "grouped_means['Genotype'] = grouped_means['Animal'].str.extract(r\"_(WT|TS)\")\n",
    "\n",
    "# Step 2: Separate data by genotype\n",
    "genotype_groups = grouped_means.groupby('Genotype')\n",
    "\n",
    "# Step 3: Perform t-tests for all numeric columns\n",
    "# Exclude non-numeric columns\n",
    "numeric_cols = grouped_means.select_dtypes(include=['number']).columns\n",
    "results = []\n",
    "\n",
    "for col in numeric_cols:\n",
    "    if col != 'Animal':  # Skip 'Animal' column if it's numeric\n",
    "        group1 = genotype_groups.get_group('WT')[col]  # Replace 'WT' with your genotype name\n",
    "        group2 = genotype_groups.get_group('TS')[col]  # Replace 'Ts' with your genotype name\n",
    "        t_stat, p_val = ttest_ind(group1, group2, equal_var=False)  # Welch's t-test\n",
    "        results.append({\n",
    "            'Metric': col,\n",
    "            'T-Statistic': t_stat,\n",
    "            'P-Value': p_val,\n",
    "            'Significant (p<0.05)': p_val < 0.05\n",
    "        })\n",
    "\n",
    "# Step 4: Convert results to a DataFrame\n",
    "t_test_results = pd.DataFrame(results)\n",
    "t_test_results\n",
    "# Step 5: Save results to an Excel file (optional)\n",
    "#t_test_results.to_excel('t_test_results_by_genotype.xlsx', index=False)"
   ]
  },
  {
   "cell_type": "code",
   "execution_count": null,
   "metadata": {},
   "outputs": [],
   "source": [
    "grouped_means['Genotype']=grouped_means['Animal'].str.extract(r\"_(WT|TS)\")"
   ]
  },
  {
   "cell_type": "code",
   "execution_count": null,
   "metadata": {},
   "outputs": [],
   "source": [
    "grouped_means.sort_values(by=\"Genotype\").to_excel(os.path.join(output_folder_path, \"Grouped_data_all.xlsx\"), index=False) # saving the entire DF"
   ]
  },
  {
   "cell_type": "code",
   "execution_count": null,
   "metadata": {},
   "outputs": [],
   "source": []
  }
 ],
 "metadata": {
  "kernelspec": {
   "display_name": "AI",
   "language": "python",
   "name": "python3"
  },
  "language_info": {
   "codemirror_mode": {
    "name": "ipython",
    "version": 3
   },
   "file_extension": ".py",
   "mimetype": "text/x-python",
   "name": "python",
   "nbconvert_exporter": "python",
   "pygments_lexer": "ipython3",
   "version": "3.11.7"
  }
 },
 "nbformat": 4,
 "nbformat_minor": 2
}
