{
 "cells": [
  {
   "cell_type": "code",
   "execution_count": null,
   "metadata": {},
   "outputs": [],
   "source": [
    "'''\n",
    "THIS IS THE SEGMENTATION SCRIPT TO PROCESS ALL DATA STORED IN SUBFOLDERS (AS DESCRIBED IN README)\n",
    "\n",
    "HOW TO USE:\n",
    "\n",
    "!!!!!!\n",
    "parent_folder: folder containing all data to segment stored in multiple folders\n",
    "!!!!!!\n",
    "\n",
    "The names of the images INSIDE EACH FOLDER SHOULD BE ANIMAL1_IMAGE1_IBA1.TIF, ANIMAL1_IMAGE1_NEUN.TIF, ANIMAL1_IMAGE1_PV.TIF; ANIMAL1_IMAGE2_IBA1.TIF ETC...  \n",
    "WHILE AS FOLDER NAMES I USE ANIMAL1 ETC...\n",
    "\n",
    "the code WILL USE THE CHANNEL NAME to decide which pipeline to use (DoG filtering (IBA AND PV) vs Stardist (NEUN))\n",
    "\n",
    "The pipeline can be optimized for any use using the config.py which contains parameters to be tweaked with to improve cell segmentation\n",
    "\n",
    "visualize=True let's you see all the segmented cells, I suggest to use this especially when setting up the parameters in config.py \n",
    "\n",
    "'''\n",
    "\n",
    "import os\n",
    "from src.segment_single_folder import process_single_folder\n",
    "\n",
    "# folder containing all data to segment stored in multiple folders\n",
    "parent_folder = r\"E:\\VSC_SSD\\MicroNeuSeg\\data\"\n",
    "\n",
    "# 🔄 Process each subfolder\n",
    "for root, dirs, files in os.walk(parent_folder):\n",
    "    if root == parent_folder:\n",
    "        continue\n",
    "    process_single_folder(root, visualize=True) # when running the code in .py put false otherwise the visualization of all segmented images with bounding boxes is problematic"
   ]
  }
 ],
 "metadata": {
  "kernelspec": {
   "display_name": "madonna",
   "language": "python",
   "name": "python3"
  },
  "language_info": {
   "codemirror_mode": {
    "name": "ipython",
    "version": 3
   },
   "file_extension": ".py",
   "mimetype": "text/x-python",
   "name": "python",
   "nbconvert_exporter": "python",
   "pygments_lexer": "ipython3",
   "version": "3.8.20"
  }
 },
 "nbformat": 4,
 "nbformat_minor": 2
}
